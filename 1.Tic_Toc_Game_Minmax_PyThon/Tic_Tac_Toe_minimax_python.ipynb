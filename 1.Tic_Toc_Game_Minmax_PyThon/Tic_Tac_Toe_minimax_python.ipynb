{
  "nbformat": 4,
  "nbformat_minor": 0,
  "metadata": {
    "colab": {
      "name": "Tic_Tac_Toe_minimax_python.ipynb",
      "provenance": [],
      "collapsed_sections": [],
      "authorship_tag": "ABX9TyOiJ/b569zTAbAqZ3ZmgYrf",
      "include_colab_link": true
    },
    "kernelspec": {
      "name": "python3",
      "display_name": "Python 3"
    }
  },
  "cells": [
    {
      "cell_type": "markdown",
      "metadata": {
        "id": "view-in-github",
        "colab_type": "text"
      },
      "source": [
        "<a href=\"https://colab.research.google.com/github/wasif31/Artificial-Intelligence-Course-Lab/blob/main/1.Tic_Toc_Game_Minmax_PyThon/Tic_Tac_Toe_minimax_python.ipynb\" target=\"_parent\"><img src=\"https://colab.research.google.com/assets/colab-badge.svg\" alt=\"Open In Colab\"/></a>"
      ]
    },
    {
      "cell_type": "code",
      "metadata": {
        "id": "LjYP6Z5wHNlL"
      },
      "source": [
        "# Human Vs AI\r\n",
        "#MinMax Algorithm\r\n",
        "#Python\r\n",
        "# Wasif"
      ],
      "execution_count": 1,
      "outputs": []
    },
    {
      "cell_type": "code",
      "metadata": {
        "id": "tPdp7aq8HXSF"
      },
      "source": [
        "from math import inf as infinity\r\n",
        "from random import choice\r\n",
        "import platform\r\n",
        "import time\r\n",
        "from os import system"
      ],
      "execution_count": 2,
      "outputs": []
    },
    {
      "cell_type": "code",
      "metadata": {
        "id": "vsgV0umbHanV"
      },
      "source": [
        "HUMAN = -1\r\n",
        "ROBOT= +1\r\n",
        "board = [\r\n",
        "    [0, 0, 0],\r\n",
        "    [0, 0, 0],\r\n",
        "    [0, 0, 0],\r\n",
        "]"
      ],
      "execution_count": 3,
      "outputs": []
    },
    {
      "cell_type": "code",
      "metadata": {
        "id": "-ELhJQOWHhCA"
      },
      "source": [
        "def evaluate(state):\r\n",
        "  if wins(state,ROBOT):\r\n",
        "      score=+1\r\n",
        "  elif wins(state,HUMAN):\r\n",
        "      score=-1\r\n",
        "  else:\r\n",
        "     score=0\r\n",
        "  return score\r\n",
        "        "
      ],
      "execution_count": 5,
      "outputs": []
    },
    {
      "cell_type": "code",
      "metadata": {
        "id": "wsD5HYHeIzAf"
      },
      "source": [
        "def wins(state,player):\r\n",
        "  win_state=[\r\n",
        "             [state[0][0], state[0][1], state[0][2]],\r\n",
        "             [state[1][0], state[1][1], state[1][2]],\r\n",
        "             [state[2][0], state[2][1], state[2][2]],\r\n",
        "             [state[0][0], state[1][0], state[2][0]],\r\n",
        "             [state[0][1], state[1][1], state[2][1]],\r\n",
        "             [state[0][2], state[1][2], state[2][2]],\r\n",
        "             [state[0][0], state[1][1], state[2][2]],\r\n",
        "             [state[2][0], state[1][1], state[0][2]],\r\n",
        "             \r\n",
        "  ]\r\n",
        "  if [player, player, player] in win_state:\r\n",
        "      return True\r\n",
        "  else:\r\n",
        "      return False"
      ],
      "execution_count": 7,
      "outputs": []
    },
    {
      "cell_type": "code",
      "metadata": {
        "id": "vErQ65TFJxqo"
      },
      "source": [
        "def game_over(state):\r\n",
        "\r\n",
        "    return wins(state, HUMAN) or wins(state, ROBOT)"
      ],
      "execution_count": 8,
      "outputs": []
    },
    {
      "cell_type": "code",
      "metadata": {
        "id": "GBnMbS9OJ6sP"
      },
      "source": [
        "def empty_cells(state):\r\n",
        "    cells = []\r\n",
        "\r\n",
        "    for x, row in enumerate(state):\r\n",
        "        for y, cell in enumerate(row):\r\n",
        "            if cell == 0:\r\n",
        "                cells.append([x, y])\r\n",
        "\r\n",
        "    return cells"
      ],
      "execution_count": 9,
      "outputs": []
    },
    {
      "cell_type": "code",
      "metadata": {
        "id": "YRtewOT9KQu1"
      },
      "source": [
        "def valid_move(x, y):\r\n",
        "    if [x, y] in empty_cells(board):\r\n",
        "        return True\r\n",
        "    else:\r\n",
        "        return False"
      ],
      "execution_count": 10,
      "outputs": []
    },
    {
      "cell_type": "code",
      "metadata": {
        "id": "ToCJzmO4Kz3H"
      },
      "source": [
        "def set_move(x, y, player):\r\n",
        "    if valid_move(x, y):\r\n",
        "        board[x][y] = player\r\n",
        "        return True\r\n",
        "    else:\r\n",
        "        return False"
      ],
      "execution_count": 11,
      "outputs": []
    },
    {
      "cell_type": "code",
      "metadata": {
        "id": "55_p92fgLEi-"
      },
      "source": [
        "def minimax(state, depth, player):\r\n",
        "    if player == ROBOT:\r\n",
        "        best = [-1, -1, -infinity]\r\n",
        "    else:\r\n",
        "        best = [-1, -1, +infinity]\r\n",
        "    if depth == 0 or game_over(state):\r\n",
        "        score = evaluate(state)\r\n",
        "        return [-1, -1, score]\r\n",
        "\r\n",
        "    for cell in empty_cells(state):\r\n",
        "        x, y = cell[0], cell[1]\r\n",
        "        state[x][y] = player\r\n",
        "        score = minimax(state, depth - 1, -player)\r\n",
        "        state[x][y] = 0\r\n",
        "        score[0], score[1] = x, y\r\n",
        "        if player == ROBOT:\r\n",
        "            if score[2] > best[2]:\r\n",
        "                best = score  # max \r\n",
        "            if score[2] < best[2]:\r\n",
        "                best = score  # min\r\n",
        "        return best        \r\n"
      ],
      "execution_count": 12,
      "outputs": []
    },
    {
      "cell_type": "code",
      "metadata": {
        "id": "GYuZa2QsL9SX"
      },
      "source": [
        "def clean():\r\n",
        "    os_name = platform.system().lower()\r\n",
        "    if 'windows' in os_name:\r\n",
        "        system('cls')\r\n",
        "    else:\r\n",
        "        system('clear')"
      ],
      "execution_count": 13,
      "outputs": []
    },
    {
      "cell_type": "code",
      "metadata": {
        "id": "irkP2FG1MHcO"
      },
      "source": [
        "def render(state, c_choice, h_choice):\r\n",
        "    chars = {\r\n",
        "        -1: h_choice,\r\n",
        "        +1: c_choice,\r\n",
        "        0: ' '\r\n",
        "    }\r\n",
        "    str_line = '---------------'\r\n",
        "\r\n",
        "    print('\\n' + str_line)\r\n",
        "    for row in state:\r\n",
        "        for cell in row:\r\n",
        "            symbol = chars[cell]\r\n",
        "            print(f'| {symbol} |', end='')\r\n",
        "        print('\\n' + str_line)"
      ],
      "execution_count": 14,
      "outputs": []
    },
    {
      "cell_type": "code",
      "metadata": {
        "id": "ZmFtUOK2MPF_"
      },
      "source": [
        "def ai_turn(c_choice, h_choice):\r\n",
        "    depth = len(empty_cells(board))\r\n",
        "    if depth == 0 or game_over(board):\r\n",
        "        return\r\n",
        "    clean()\r\n",
        "    print(f'Robot turn [{c_choice}]')\r\n",
        "    render(board, c_choice, h_choice)\r\n",
        "    if depth == 9:\r\n",
        "        x = choice([0, 1, 2])\r\n",
        "        y = choice([0, 1, 2])\r\n",
        "    else:\r\n",
        "        move = minimax(board, depth, ROBOT)\r\n",
        "        x, y = move[0], move[1]\r\n",
        "\r\n",
        "    set_move(x, y, ROBOT)\r\n",
        "    time.sleep(1)   "
      ],
      "execution_count": 20,
      "outputs": []
    },
    {
      "cell_type": "code",
      "metadata": {
        "id": "QM5qn0h9OMhO"
      },
      "source": [
        "def human_turn(c_choice, h_choice):\r\n",
        "    depth = len(empty_cells(board))\r\n",
        "    if depth == 0 or game_over(board):\r\n",
        "        return\r\n",
        "\r\n",
        "    # Dictionary of valid moves\r\n",
        "    move = -1\r\n",
        "    moves = {\r\n",
        "        1: [0, 0], 2: [0, 1], 3: [0, 2],\r\n",
        "        4: [1, 0], 5: [1, 1], 6: [1, 2],\r\n",
        "        7: [2, 0], 8: [2, 1], 9: [2, 2],\r\n",
        "    }\r\n",
        "\r\n",
        "    clean()\r\n",
        "    print(f'Human turn [{h_choice}]')\r\n",
        "    render(board, c_choice, h_choice)\r\n",
        "\r\n",
        "    while move < 1 or move > 9:\r\n",
        "        try:\r\n",
        "            move = int(input('Use numpad (1..9): '))\r\n",
        "            coord = moves[move]\r\n",
        "            can_move = set_move(coord[0], coord[1], HUMAN)\r\n",
        "\r\n",
        "            if not can_move:\r\n",
        "                print('Cant Move that Place')\r\n",
        "                move = -1\r\n",
        "        except (EOFError, KeyboardInterrupt):\r\n",
        "            print('Bye')\r\n",
        "            exit()\r\n",
        "        except (KeyError, ValueError):\r\n",
        "            print('Cant Move that Place')\r\n",
        "\r\n"
      ],
      "execution_count": 21,
      "outputs": []
    },
    {
      "cell_type": "code",
      "metadata": {
        "colab": {
          "base_uri": "https://localhost:8080/"
        },
        "id": "1hZI3OSEPiZX",
        "outputId": "e73ffc02-d493-4372-9844-f76279bd7791"
      },
      "source": [
        "def main():\r\n",
        "\r\n",
        "    clean()\r\n",
        "    h_choice = '' \r\n",
        "    c_choice = '' \r\n",
        "    first = ''  \r\n",
        "\r\n",
        "\r\n",
        "    while h_choice != 'O' and h_choice != 'X':\r\n",
        "        try:\r\n",
        "            print('')\r\n",
        "            h_choice = input('Choose X or O\\nChosen: ').upper()\r\n",
        "        except (EOFError, KeyboardInterrupt):\r\n",
        "            print('Bye')\r\n",
        "            exit()\r\n",
        "        except (KeyError, ValueError):\r\n",
        "            print('Cant Move that Place')\r\n",
        "\r\n",
        "\r\n",
        "    if h_choice == 'X':\r\n",
        "        c_choice = 'O'\r\n",
        "    else:\r\n",
        "        c_choice = 'X'\r\n",
        "\r\n",
        "    # Human may starts first\r\n",
        "    clean()\r\n",
        "    while first != 'Y' and first != 'N':\r\n",
        "        try:\r\n",
        "            first = input('First to start?[y/n]: ').upper()\r\n",
        "        except (EOFError, KeyboardInterrupt):\r\n",
        "            print('Bye')\r\n",
        "            exit()\r\n",
        "        except (KeyError, ValueError):\r\n",
        "            print('Bad choice')\r\n",
        "\r\n",
        "\r\n",
        "    while len(empty_cells(board)) > 0 and not game_over(board):\r\n",
        "        if first == 'N':\r\n",
        "            ai_turn(c_choice, h_choice)\r\n",
        "            first = ''\r\n",
        "\r\n",
        "        human_turn(c_choice, h_choice)\r\n",
        "        ai_turn(c_choice, h_choice)\r\n",
        "\r\n",
        "    if wins(board, HUMAN):\r\n",
        "        clean()\r\n",
        "        print(f'Human turn [{h_choice}]')\r\n",
        "        render(board, c_choice, h_choice)\r\n",
        "        print('YOU WIN!')\r\n",
        "    elif wins(board, ROBOT):\r\n",
        "        clean()\r\n",
        "        print(f'Robots turn [{c_choice}]')\r\n",
        "        render(board, c_choice, h_choice)\r\n",
        "        print('YOU LOSE!')\r\n",
        "    else:\r\n",
        "        clean()\r\n",
        "        render(board, c_choice, h_choice)\r\n",
        "        print('DRAW!')\r\n",
        "\r\n",
        "    exit()\r\n",
        "\r\n",
        "\r\n",
        "if __name__ == '__main__':\r\n",
        "    main()\r\n",
        "    "
      ],
      "execution_count": 22,
      "outputs": [
        {
          "output_type": "stream",
          "text": [
            "\n",
            "Choose X or O\n",
            "Chosen: X\n",
            "First to start?[y/n]: y\n",
            "Human turn [X]\n",
            "\n",
            "---------------\n",
            "|   ||   ||   |\n",
            "---------------\n",
            "|   ||   ||   |\n",
            "---------------\n",
            "|   ||   ||   |\n",
            "---------------\n",
            "Use numpad (1..9): 2\n",
            "Robot turn [O]\n",
            "\n",
            "---------------\n",
            "|   || X ||   |\n",
            "---------------\n",
            "|   ||   ||   |\n",
            "---------------\n",
            "|   ||   ||   |\n",
            "---------------\n",
            "Human turn [X]\n",
            "\n",
            "---------------\n",
            "| O || X ||   |\n",
            "---------------\n",
            "|   ||   ||   |\n",
            "---------------\n",
            "|   ||   ||   |\n",
            "---------------\n",
            "Use numpad (1..9): 9\n",
            "Robot turn [O]\n",
            "\n",
            "---------------\n",
            "| O || X ||   |\n",
            "---------------\n",
            "|   ||   ||   |\n",
            "---------------\n",
            "|   ||   || X |\n",
            "---------------\n",
            "Human turn [X]\n",
            "\n",
            "---------------\n",
            "| O || X || O |\n",
            "---------------\n",
            "|   ||   ||   |\n",
            "---------------\n",
            "|   ||   || X |\n",
            "---------------\n",
            "Use numpad (1..9): 5\n",
            "Robot turn [O]\n",
            "\n",
            "---------------\n",
            "| O || X || O |\n",
            "---------------\n",
            "|   || X ||   |\n",
            "---------------\n",
            "|   ||   || X |\n",
            "---------------\n",
            "Human turn [X]\n",
            "\n",
            "---------------\n",
            "| O || X || O |\n",
            "---------------\n",
            "| O || X ||   |\n",
            "---------------\n",
            "|   ||   || X |\n",
            "---------------\n",
            "Use numpad (1..9): 7\n",
            "Robot turn [O]\n",
            "\n",
            "---------------\n",
            "| O || X || O |\n",
            "---------------\n",
            "| O || X ||   |\n",
            "---------------\n",
            "| X ||   || X |\n",
            "---------------\n",
            "Human turn [X]\n",
            "\n",
            "---------------\n",
            "| O || X || O |\n",
            "---------------\n",
            "| O || X || O |\n",
            "---------------\n",
            "| X ||   || X |\n",
            "---------------\n",
            "Use numpad (1..9): 8\n",
            "Human turn [X]\n",
            "\n",
            "---------------\n",
            "| O || X || O |\n",
            "---------------\n",
            "| O || X || O |\n",
            "---------------\n",
            "| X || X || X |\n",
            "---------------\n",
            "YOU WIN!\n"
          ],
          "name": "stdout"
        }
      ]
    }
  ]
}