{
  "nbformat": 4,
  "nbformat_minor": 0,
  "metadata": {
    "colab": {
      "name": "Calculate_Air_Quality_Index.ipynb",
      "provenance": [],
      "collapsed_sections": []
    },
    "kernelspec": {
      "name": "python3",
      "display_name": "Python 3"
    }
  },
  "cells": [
    {
      "cell_type": "markdown",
      "metadata": {
        "id": "ALZC6-93_QAz"
      },
      "source": [
        "# Linear Regression \r\n",
        "Linear regression is a form of statistical analysis that shows the relationship between two or more continuous variables. It creates a predictive model using relevant data to show trends. Analysts typically use the “least square method” to create the model. There are other methods, but the least square method is the most commonly used. \r\n",
        "Below is a graph that depicts the relationship between the heights and weights of a sample of people. The red line is the linear regression that shows the height of a person is positively related to its weight.\r\n",
        "\r\n",
        "![Linear-Regression.PNG](data:image/png;base64,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)\r\n",
        "\r\n",
        "\r\n",
        "\r\n",
        "\r\n",
        "\r\n",
        "\r\n",
        "\r\n",
        "---\r\n",
        "\r\n",
        "\r\n",
        "\r\n",
        "\r\n"
      ]
    },
    {
      "cell_type": "code",
      "metadata": {
        "id": "v4erIO4X8xmh"
      },
      "source": [
        "import numpy as np # linear algebra\r\n",
        "import pandas as pd # data processing, CSV file I/O \r\n",
        "import seaborn as sns\r\n",
        "import matplotlib.pyplot as plt\r\n",
        "import seaborn as sns; sns.set()\r\n",
        "from sklearn.utils import shuffle\r\n",
        "import warnings\r\n",
        "# Modeling, Evaluation\r\n",
        "from sklearn.linear_model import LinearRegression\r\n",
        "from sklearn.model_selection import train_test_split\r\n",
        "from sklearn.model_selection import cross_val_score\r\n",
        "from sklearn import metrics\r\n",
        "import statsmodels.api as sm\r\n",
        "#Validation\r\n",
        "from sklearn.metrics import mean_squared_error\r\n",
        "import pandas.util.testing as tm"
      ],
      "execution_count": 36,
      "outputs": []
    },
    {
      "cell_type": "code",
      "metadata": {
        "id": "wWAQeeUO9dMm"
      },
      "source": [
        "dataurl = 'https://raw.githubusercontent.com/wasif31/Artificial-Intelligence-Course-Lab/main/2.Calculate%20air%20quality%20index%20using%20Linear%20regression/RAW_DATASET_state_weather_aqi_data.csv'\r\n",
        "dataframe1 = pd.read_csv(dataurl)\r\n",
        "# Dataset is now stored in a Pandas Dataframe\r\n"
      ],
      "execution_count": 37,
      "outputs": []
    },
    {
      "cell_type": "code",
      "metadata": {
        "colab": {
          "base_uri": "https://localhost:8080/",
          "height": 359
        },
        "id": "yjYyU4k-A3zb",
        "outputId": "e0156e17-66cb-4a3c-f7d6-9b727c55ce7f"
      },
      "source": [
        "dataframe1.head(10)"
      ],
      "execution_count": 38,
      "outputs": [
        {
          "output_type": "execute_result",
          "data": {
            "text/html": [
              "<div>\n",
              "<style scoped>\n",
              "    .dataframe tbody tr th:only-of-type {\n",
              "        vertical-align: middle;\n",
              "    }\n",
              "\n",
              "    .dataframe tbody tr th {\n",
              "        vertical-align: top;\n",
              "    }\n",
              "\n",
              "    .dataframe thead th {\n",
              "        text-align: right;\n",
              "    }\n",
              "</style>\n",
              "<table border=\"1\" class=\"dataframe\">\n",
              "  <thead>\n",
              "    <tr style=\"text-align: right;\">\n",
              "      <th></th>\n",
              "      <th>state</th>\n",
              "      <th>city</th>\n",
              "      <th>station</th>\n",
              "      <th>date</th>\n",
              "      <th>time</th>\n",
              "      <th>PM2.5</th>\n",
              "      <th>PM10</th>\n",
              "      <th>NO2</th>\n",
              "      <th>NH3</th>\n",
              "      <th>SO2</th>\n",
              "      <th>CO</th>\n",
              "      <th>OZONE</th>\n",
              "      <th>AQI</th>\n",
              "      <th>Predominant_Parameter</th>\n",
              "    </tr>\n",
              "  </thead>\n",
              "  <tbody>\n",
              "    <tr>\n",
              "      <th>0</th>\n",
              "      <td>Andhra_Pradesh</td>\n",
              "      <td>Amaravati</td>\n",
              "      <td>Secretariat, Amaravati - APPCB</td>\n",
              "      <td>03-01-2020</td>\n",
              "      <td>10:00:00</td>\n",
              "      <td>68.0</td>\n",
              "      <td>64.0</td>\n",
              "      <td>17.0</td>\n",
              "      <td>4.0</td>\n",
              "      <td>28.0</td>\n",
              "      <td>31.0</td>\n",
              "      <td>40.0</td>\n",
              "      <td>68.0</td>\n",
              "      <td>PM2.5</td>\n",
              "    </tr>\n",
              "    <tr>\n",
              "      <th>1</th>\n",
              "      <td>Andhra_Pradesh</td>\n",
              "      <td>Rajamahendravaram</td>\n",
              "      <td>Anand Kala Kshetram, Rajamahendravaram - APPCB</td>\n",
              "      <td>03-01-2020</td>\n",
              "      <td>10:00:00</td>\n",
              "      <td>67.0</td>\n",
              "      <td>70.0</td>\n",
              "      <td>23.0</td>\n",
              "      <td>2.0</td>\n",
              "      <td>13.0</td>\n",
              "      <td>49.0</td>\n",
              "      <td>77.0</td>\n",
              "      <td>77.0</td>\n",
              "      <td>OZONE</td>\n",
              "    </tr>\n",
              "    <tr>\n",
              "      <th>2</th>\n",
              "      <td>Andhra_Pradesh</td>\n",
              "      <td>Tirupati</td>\n",
              "      <td>Tirumala, Tirupati - APPCB</td>\n",
              "      <td>03-01-2020</td>\n",
              "      <td>10:00:00</td>\n",
              "      <td>32.0</td>\n",
              "      <td>NaN</td>\n",
              "      <td>26.0</td>\n",
              "      <td>5.0</td>\n",
              "      <td>6.0</td>\n",
              "      <td>19.0</td>\n",
              "      <td>16.0</td>\n",
              "      <td>32.0</td>\n",
              "      <td>PM2.5</td>\n",
              "    </tr>\n",
              "    <tr>\n",
              "      <th>3</th>\n",
              "      <td>Andhra_Pradesh</td>\n",
              "      <td>Visakhapatnam</td>\n",
              "      <td>GVM Corporation, Visakhapatnam - APPCB</td>\n",
              "      <td>03-01-2020</td>\n",
              "      <td>10:00:00</td>\n",
              "      <td>93.0</td>\n",
              "      <td>93.0</td>\n",
              "      <td>31.0</td>\n",
              "      <td>3.0</td>\n",
              "      <td>9.0</td>\n",
              "      <td>57.0</td>\n",
              "      <td>61.0</td>\n",
              "      <td>93.0</td>\n",
              "      <td>PM10</td>\n",
              "    </tr>\n",
              "    <tr>\n",
              "      <th>4</th>\n",
              "      <td>Andhra_Pradesh</td>\n",
              "      <td>Amaravati</td>\n",
              "      <td>Secretariat, Amaravati - APPCB</td>\n",
              "      <td>05-01-2020</td>\n",
              "      <td>06:00:00</td>\n",
              "      <td>60.0</td>\n",
              "      <td>55.0</td>\n",
              "      <td>20.0</td>\n",
              "      <td>5.0</td>\n",
              "      <td>18.0</td>\n",
              "      <td>29.0</td>\n",
              "      <td>53.0</td>\n",
              "      <td>60.0</td>\n",
              "      <td>PM2.5</td>\n",
              "    </tr>\n",
              "    <tr>\n",
              "      <th>5</th>\n",
              "      <td>Andhra_Pradesh</td>\n",
              "      <td>Rajamahendravaram</td>\n",
              "      <td>Anand Kala Kshetram, Rajamahendravaram - APPCB</td>\n",
              "      <td>05-01-2020</td>\n",
              "      <td>06:00:00</td>\n",
              "      <td>48.0</td>\n",
              "      <td>52.0</td>\n",
              "      <td>25.0</td>\n",
              "      <td>3.0</td>\n",
              "      <td>12.0</td>\n",
              "      <td>43.0</td>\n",
              "      <td>67.0</td>\n",
              "      <td>67.0</td>\n",
              "      <td>OZONE</td>\n",
              "    </tr>\n",
              "    <tr>\n",
              "      <th>6</th>\n",
              "      <td>Andhra_Pradesh</td>\n",
              "      <td>Tirupati</td>\n",
              "      <td>Tirumala, Tirupati - APPCB</td>\n",
              "      <td>05-01-2020</td>\n",
              "      <td>06:00:00</td>\n",
              "      <td>36.0</td>\n",
              "      <td>41.0</td>\n",
              "      <td>31.0</td>\n",
              "      <td>5.0</td>\n",
              "      <td>5.0</td>\n",
              "      <td>33.0</td>\n",
              "      <td>14.0</td>\n",
              "      <td>41.0</td>\n",
              "      <td>PM10</td>\n",
              "    </tr>\n",
              "    <tr>\n",
              "      <th>7</th>\n",
              "      <td>Andhra_Pradesh</td>\n",
              "      <td>Visakhapatnam</td>\n",
              "      <td>GVM Corporation, Visakhapatnam - APPCB</td>\n",
              "      <td>05-01-2020</td>\n",
              "      <td>06:00:00</td>\n",
              "      <td>27.0</td>\n",
              "      <td>43.0</td>\n",
              "      <td>23.0</td>\n",
              "      <td>3.0</td>\n",
              "      <td>11.0</td>\n",
              "      <td>44.0</td>\n",
              "      <td>61.0</td>\n",
              "      <td>61.0</td>\n",
              "      <td>OZONE</td>\n",
              "    </tr>\n",
              "    <tr>\n",
              "      <th>8</th>\n",
              "      <td>Andhra_Pradesh</td>\n",
              "      <td>Amaravati</td>\n",
              "      <td>Secretariat, Amaravati - APPCB</td>\n",
              "      <td>06-01-2020</td>\n",
              "      <td>03:00:00</td>\n",
              "      <td>54.0</td>\n",
              "      <td>54.0</td>\n",
              "      <td>15.0</td>\n",
              "      <td>5.0</td>\n",
              "      <td>21.0</td>\n",
              "      <td>30.0</td>\n",
              "      <td>51.0</td>\n",
              "      <td>54.0</td>\n",
              "      <td>PM10</td>\n",
              "    </tr>\n",
              "    <tr>\n",
              "      <th>9</th>\n",
              "      <td>Andhra_Pradesh</td>\n",
              "      <td>Rajamahendravaram</td>\n",
              "      <td>Anand Kala Kshetram, Rajamahendravaram - APPCB</td>\n",
              "      <td>06-01-2020</td>\n",
              "      <td>03:00:00</td>\n",
              "      <td>48.0</td>\n",
              "      <td>53.0</td>\n",
              "      <td>24.0</td>\n",
              "      <td>3.0</td>\n",
              "      <td>13.0</td>\n",
              "      <td>39.0</td>\n",
              "      <td>69.0</td>\n",
              "      <td>69.0</td>\n",
              "      <td>OZONE</td>\n",
              "    </tr>\n",
              "  </tbody>\n",
              "</table>\n",
              "</div>"
            ],
            "text/plain": [
              "            state               city  ...   AQI Predominant_Parameter\n",
              "0  Andhra_Pradesh          Amaravati  ...  68.0                 PM2.5\n",
              "1  Andhra_Pradesh  Rajamahendravaram  ...  77.0                 OZONE\n",
              "2  Andhra_Pradesh           Tirupati  ...  32.0                 PM2.5\n",
              "3  Andhra_Pradesh      Visakhapatnam  ...  93.0                  PM10\n",
              "4  Andhra_Pradesh          Amaravati  ...  60.0                 PM2.5\n",
              "5  Andhra_Pradesh  Rajamahendravaram  ...  67.0                 OZONE\n",
              "6  Andhra_Pradesh           Tirupati  ...  41.0                  PM10\n",
              "7  Andhra_Pradesh      Visakhapatnam  ...  61.0                 OZONE\n",
              "8  Andhra_Pradesh          Amaravati  ...  54.0                  PM10\n",
              "9  Andhra_Pradesh  Rajamahendravaram  ...  69.0                 OZONE\n",
              "\n",
              "[10 rows x 14 columns]"
            ]
          },
          "metadata": {
            "tags": []
          },
          "execution_count": 38
        }
      ]
    },
    {
      "cell_type": "markdown",
      "metadata": {
        "id": "J44gyAVJB2TM"
      },
      "source": [
        "# Field Definations\r\n",
        "\r\n",
        "*   id - unique identified for a house\r\n",
        "\r\n",
        "*   PM2.5 - Fine particulate matter (PM2.5) is an air pollutant that is a concern for people's health when levels in air are high. PM2.5 are tiny particles in the air that reduce visibility and cause the air to appear hazy when levels are elevated.\r\n",
        "Safe Level :\r\n",
        ">35.5 to 55.4-Unhealthy for Sensitive Groups,\r\n",
        " >55.5 to 150.4-Unhealthy,\r\n",
        "> 150.5 to 250.4-Very Unhealthy ,\r\n",
        ">250.5 to 500.4-Hazardous.\r\n",
        "*   PM10 - PM10 is particulate matter 10 micrometers or less in diameter,Safe Leve; as under 20 micrograms(W.H.O) per cubic metre. \r\n",
        "\r\n",
        "\r\n",
        "* NO2 -Nitrogen Dioxide\r\n",
        "\r\n",
        "*   NH3 - Ammonia\r\n",
        "*   CO - Carbon MonoOxide\r\n",
        "\r\n",
        "*   SO2 - Sulpher Di Oxide\r\n",
        "\r\n",
        "*   AQI - Air Quality Index (AQI)\r\n",
        "\r\n"
      ]
    },
    {
      "cell_type": "code",
      "metadata": {
        "colab": {
          "base_uri": "https://localhost:8080/"
        },
        "id": "_3HE_KwxE1kd",
        "outputId": "fc9996d0-4a27-4225-d147-6a5ac40f4d4c"
      },
      "source": [
        "dataframe1.shape\r\n",
        "#number of rows,columns"
      ],
      "execution_count": 39,
      "outputs": [
        {
          "output_type": "execute_result",
          "data": {
            "text/plain": [
              "(1573, 14)"
            ]
          },
          "metadata": {
            "tags": []
          },
          "execution_count": 39
        }
      ]
    },
    {
      "cell_type": "code",
      "metadata": {
        "colab": {
          "base_uri": "https://localhost:8080/",
          "height": 297
        },
        "id": "gq_XhkEwE5pD",
        "outputId": "7c329dfe-91ea-4891-e69e-493615b877fb"
      },
      "source": [
        "dataframe1.describe()"
      ],
      "execution_count": 40,
      "outputs": [
        {
          "output_type": "execute_result",
          "data": {
            "text/html": [
              "<div>\n",
              "<style scoped>\n",
              "    .dataframe tbody tr th:only-of-type {\n",
              "        vertical-align: middle;\n",
              "    }\n",
              "\n",
              "    .dataframe tbody tr th {\n",
              "        vertical-align: top;\n",
              "    }\n",
              "\n",
              "    .dataframe thead th {\n",
              "        text-align: right;\n",
              "    }\n",
              "</style>\n",
              "<table border=\"1\" class=\"dataframe\">\n",
              "  <thead>\n",
              "    <tr style=\"text-align: right;\">\n",
              "      <th></th>\n",
              "      <th>PM2.5</th>\n",
              "      <th>PM10</th>\n",
              "      <th>NO2</th>\n",
              "      <th>NH3</th>\n",
              "      <th>SO2</th>\n",
              "      <th>CO</th>\n",
              "      <th>OZONE</th>\n",
              "      <th>AQI</th>\n",
              "    </tr>\n",
              "  </thead>\n",
              "  <tbody>\n",
              "    <tr>\n",
              "      <th>count</th>\n",
              "      <td>1392.000000</td>\n",
              "      <td>1228.000000</td>\n",
              "      <td>1415.000000</td>\n",
              "      <td>1122.000000</td>\n",
              "      <td>1357.000000</td>\n",
              "      <td>1508.000000</td>\n",
              "      <td>1422.000000</td>\n",
              "      <td>1568.000000</td>\n",
              "    </tr>\n",
              "    <tr>\n",
              "      <th>mean</th>\n",
              "      <td>182.898707</td>\n",
              "      <td>141.674267</td>\n",
              "      <td>46.588693</td>\n",
              "      <td>8.402852</td>\n",
              "      <td>16.427413</td>\n",
              "      <td>51.295093</td>\n",
              "      <td>29.813643</td>\n",
              "      <td>188.255102</td>\n",
              "    </tr>\n",
              "    <tr>\n",
              "      <th>std</th>\n",
              "      <td>106.272193</td>\n",
              "      <td>66.727131</td>\n",
              "      <td>31.741560</td>\n",
              "      <td>5.591818</td>\n",
              "      <td>12.566816</td>\n",
              "      <td>28.063603</td>\n",
              "      <td>22.739562</td>\n",
              "      <td>98.914736</td>\n",
              "    </tr>\n",
              "    <tr>\n",
              "      <th>min</th>\n",
              "      <td>9.000000</td>\n",
              "      <td>21.000000</td>\n",
              "      <td>1.000000</td>\n",
              "      <td>1.000000</td>\n",
              "      <td>1.000000</td>\n",
              "      <td>1.000000</td>\n",
              "      <td>1.000000</td>\n",
              "      <td>25.000000</td>\n",
              "    </tr>\n",
              "    <tr>\n",
              "      <th>25%</th>\n",
              "      <td>88.000000</td>\n",
              "      <td>93.000000</td>\n",
              "      <td>23.000000</td>\n",
              "      <td>4.000000</td>\n",
              "      <td>8.000000</td>\n",
              "      <td>30.000000</td>\n",
              "      <td>13.000000</td>\n",
              "      <td>101.000000</td>\n",
              "    </tr>\n",
              "    <tr>\n",
              "      <th>50%</th>\n",
              "      <td>164.500000</td>\n",
              "      <td>130.000000</td>\n",
              "      <td>42.000000</td>\n",
              "      <td>7.000000</td>\n",
              "      <td>13.000000</td>\n",
              "      <td>46.000000</td>\n",
              "      <td>25.000000</td>\n",
              "      <td>174.500000</td>\n",
              "    </tr>\n",
              "    <tr>\n",
              "      <th>75%</th>\n",
              "      <td>278.250000</td>\n",
              "      <td>184.250000</td>\n",
              "      <td>64.000000</td>\n",
              "      <td>12.000000</td>\n",
              "      <td>20.000000</td>\n",
              "      <td>67.000000</td>\n",
              "      <td>40.000000</td>\n",
              "      <td>278.000000</td>\n",
              "    </tr>\n",
              "    <tr>\n",
              "      <th>max</th>\n",
              "      <td>441.000000</td>\n",
              "      <td>394.000000</td>\n",
              "      <td>247.000000</td>\n",
              "      <td>34.000000</td>\n",
              "      <td>92.000000</td>\n",
              "      <td>200.000000</td>\n",
              "      <td>206.000000</td>\n",
              "      <td>441.000000</td>\n",
              "    </tr>\n",
              "  </tbody>\n",
              "</table>\n",
              "</div>"
            ],
            "text/plain": [
              "             PM2.5         PM10  ...        OZONE          AQI\n",
              "count  1392.000000  1228.000000  ...  1422.000000  1568.000000\n",
              "mean    182.898707   141.674267  ...    29.813643   188.255102\n",
              "std     106.272193    66.727131  ...    22.739562    98.914736\n",
              "min       9.000000    21.000000  ...     1.000000    25.000000\n",
              "25%      88.000000    93.000000  ...    13.000000   101.000000\n",
              "50%     164.500000   130.000000  ...    25.000000   174.500000\n",
              "75%     278.250000   184.250000  ...    40.000000   278.000000\n",
              "max     441.000000   394.000000  ...   206.000000   441.000000\n",
              "\n",
              "[8 rows x 8 columns]"
            ]
          },
          "metadata": {
            "tags": []
          },
          "execution_count": 40
        }
      ]
    },
    {
      "cell_type": "code",
      "metadata": {
        "colab": {
          "base_uri": "https://localhost:8080/"
        },
        "id": "3uET5dEJFJAz",
        "outputId": "755e27dc-d6e5-4bc2-bd1d-88b6fe768fb8"
      },
      "source": [
        "dataframe1.isnull().sum()"
      ],
      "execution_count": 41,
      "outputs": [
        {
          "output_type": "execute_result",
          "data": {
            "text/plain": [
              "state                      0\n",
              "city                       0\n",
              "station                    0\n",
              "date                       0\n",
              "time                       0\n",
              "PM2.5                    181\n",
              "PM10                     345\n",
              "NO2                      158\n",
              "NH3                      451\n",
              "SO2                      216\n",
              "CO                        65\n",
              "OZONE                    151\n",
              "AQI                        5\n",
              "Predominant_Parameter    145\n",
              "dtype: int64"
            ]
          },
          "metadata": {
            "tags": []
          },
          "execution_count": 41
        }
      ]
    },
    {
      "cell_type": "code",
      "metadata": {
        "colab": {
          "base_uri": "https://localhost:8080/"
        },
        "id": "y6-WUtk5FN5j",
        "outputId": "2882a213-11dc-4778-ec6c-99412b9b8c76"
      },
      "source": [
        "dataframe1.info()"
      ],
      "execution_count": 42,
      "outputs": [
        {
          "output_type": "stream",
          "text": [
            "<class 'pandas.core.frame.DataFrame'>\n",
            "RangeIndex: 1573 entries, 0 to 1572\n",
            "Data columns (total 14 columns):\n",
            " #   Column                 Non-Null Count  Dtype  \n",
            "---  ------                 --------------  -----  \n",
            " 0   state                  1573 non-null   object \n",
            " 1   city                   1573 non-null   object \n",
            " 2   station                1573 non-null   object \n",
            " 3   date                   1573 non-null   object \n",
            " 4   time                   1573 non-null   object \n",
            " 5   PM2.5                  1392 non-null   float64\n",
            " 6   PM10                   1228 non-null   float64\n",
            " 7   NO2                    1415 non-null   float64\n",
            " 8   NH3                    1122 non-null   float64\n",
            " 9   SO2                    1357 non-null   float64\n",
            " 10  CO                     1508 non-null   float64\n",
            " 11  OZONE                  1422 non-null   float64\n",
            " 12  AQI                    1568 non-null   float64\n",
            " 13  Predominant_Parameter  1428 non-null   object \n",
            "dtypes: float64(8), object(6)\n",
            "memory usage: 172.2+ KB\n"
          ],
          "name": "stdout"
        }
      ]
    },
    {
      "cell_type": "code",
      "metadata": {
        "id": "RspmwB70FVuc"
      },
      "source": [
        "dataframe1['date'] = pd.to_datetime(dataframe1['date'])\r\n",
        "#convert datetime to date"
      ],
      "execution_count": 43,
      "outputs": []
    },
    {
      "cell_type": "code",
      "metadata": {
        "colab": {
          "base_uri": "https://localhost:8080/",
          "height": 1000
        },
        "id": "6_cWGTV7FzC9",
        "outputId": "1b9ba6c8-2c63-4332-eea8-2a3d767057c7"
      },
      "source": [
        "dataframe1.hist(figsize = (20,18));"
      ],
      "execution_count": 44,
      "outputs": [
        {
          "output_type": "display_data",
          "data": {
            "image/png": "[encoded data removed]",
            "text/plain": [
              "<Figure size 1440x1296 with 9 Axes>"
            ]
          },
          "metadata": {
            "tags": []
          }
        }
      ]
    },
    {
      "cell_type": "code",
      "metadata": {
        "colab": {
          "base_uri": "https://localhost:8080/"
        },
        "id": "kaOv-OyAGECc",
        "outputId": "d2985ff6-d382-441a-c9c9-0c6cb1b74e48"
      },
      "source": [
        "dataframe1.columns"
      ],
      "execution_count": 45,
      "outputs": [
        {
          "output_type": "execute_result",
          "data": {
            "text/plain": [
              "Index(['state', 'city', 'station', 'date', 'time', 'PM2.5', 'PM10', 'NO2',\n",
              "       'NH3', 'SO2', 'CO', 'OZONE', 'AQI', 'Predominant_Parameter'],\n",
              "      dtype='object')"
            ]
          },
          "metadata": {
            "tags": []
          },
          "execution_count": 45
        }
      ]
    },
    {
      "cell_type": "code",
      "metadata": {
        "id": "pauO2nP9GMrE"
      },
      "source": [
        "dataframe1.drop([\"state\"],axis=1,inplace=True)\r\n",
        "dataframe1.drop([\"city\"],axis=1,inplace=True)\r\n",
        "dataframe1.drop([\"station\"],axis=1,inplace=True)\r\n",
        "dataframe1.drop([\"date\"],axis=1,inplace=True)\r\n",
        "dataframe1.drop([\"time\"],axis=1,inplace=True)\r\n",
        "dataframe1.drop([\"Predominant_Parameter\"],axis=1,inplace=True)\r\n",
        "\r\n"
      ],
      "execution_count": 46,
      "outputs": []
    },
    {
      "cell_type": "code",
      "metadata": {
        "colab": {
          "base_uri": "https://localhost:8080/",
          "height": 359
        },
        "id": "qsyjM-j_G1F9",
        "outputId": "3b2c06ec-47aa-48e5-d515-38361b5445ab"
      },
      "source": [
        "dataframe1.head(10)"
      ],
      "execution_count": 47,
      "outputs": [
        {
          "output_type": "execute_result",
          "data": {
            "text/html": [
              "<div>\n",
              "<style scoped>\n",
              "    .dataframe tbody tr th:only-of-type {\n",
              "        vertical-align: middle;\n",
              "    }\n",
              "\n",
              "    .dataframe tbody tr th {\n",
              "        vertical-align: top;\n",
              "    }\n",
              "\n",
              "    .dataframe thead th {\n",
              "        text-align: right;\n",
              "    }\n",
              "</style>\n",
              "<table border=\"1\" class=\"dataframe\">\n",
              "  <thead>\n",
              "    <tr style=\"text-align: right;\">\n",
              "      <th></th>\n",
              "      <th>PM2.5</th>\n",
              "      <th>PM10</th>\n",
              "      <th>NO2</th>\n",
              "      <th>NH3</th>\n",
              "      <th>SO2</th>\n",
              "      <th>CO</th>\n",
              "      <th>OZONE</th>\n",
              "      <th>AQI</th>\n",
              "    </tr>\n",
              "  </thead>\n",
              "  <tbody>\n",
              "    <tr>\n",
              "      <th>0</th>\n",
              "      <td>68.0</td>\n",
              "      <td>64.0</td>\n",
              "      <td>17.0</td>\n",
              "      <td>4.0</td>\n",
              "      <td>28.0</td>\n",
              "      <td>31.0</td>\n",
              "      <td>40.0</td>\n",
              "      <td>68.0</td>\n",
              "    </tr>\n",
              "    <tr>\n",
              "      <th>1</th>\n",
              "      <td>67.0</td>\n",
              "      <td>70.0</td>\n",
              "      <td>23.0</td>\n",
              "      <td>2.0</td>\n",
              "      <td>13.0</td>\n",
              "      <td>49.0</td>\n",
              "      <td>77.0</td>\n",
              "      <td>77.0</td>\n",
              "    </tr>\n",
              "    <tr>\n",
              "      <th>2</th>\n",
              "      <td>32.0</td>\n",
              "      <td>NaN</td>\n",
              "      <td>26.0</td>\n",
              "      <td>5.0</td>\n",
              "      <td>6.0</td>\n",
              "      <td>19.0</td>\n",
              "      <td>16.0</td>\n",
              "      <td>32.0</td>\n",
              "    </tr>\n",
              "    <tr>\n",
              "      <th>3</th>\n",
              "      <td>93.0</td>\n",
              "      <td>93.0</td>\n",
              "      <td>31.0</td>\n",
              "      <td>3.0</td>\n",
              "      <td>9.0</td>\n",
              "      <td>57.0</td>\n",
              "      <td>61.0</td>\n",
              "      <td>93.0</td>\n",
              "    </tr>\n",
              "    <tr>\n",
              "      <th>4</th>\n",
              "      <td>60.0</td>\n",
              "      <td>55.0</td>\n",
              "      <td>20.0</td>\n",
              "      <td>5.0</td>\n",
              "      <td>18.0</td>\n",
              "      <td>29.0</td>\n",
              "      <td>53.0</td>\n",
              "      <td>60.0</td>\n",
              "    </tr>\n",
              "    <tr>\n",
              "      <th>5</th>\n",
              "      <td>48.0</td>\n",
              "      <td>52.0</td>\n",
              "      <td>25.0</td>\n",
              "      <td>3.0</td>\n",
              "      <td>12.0</td>\n",
              "      <td>43.0</td>\n",
              "      <td>67.0</td>\n",
              "      <td>67.0</td>\n",
              "    </tr>\n",
              "    <tr>\n",
              "      <th>6</th>\n",
              "      <td>36.0</td>\n",
              "      <td>41.0</td>\n",
              "      <td>31.0</td>\n",
              "      <td>5.0</td>\n",
              "      <td>5.0</td>\n",
              "      <td>33.0</td>\n",
              "      <td>14.0</td>\n",
              "      <td>41.0</td>\n",
              "    </tr>\n",
              "    <tr>\n",
              "      <th>7</th>\n",
              "      <td>27.0</td>\n",
              "      <td>43.0</td>\n",
              "      <td>23.0</td>\n",
              "      <td>3.0</td>\n",
              "      <td>11.0</td>\n",
              "      <td>44.0</td>\n",
              "      <td>61.0</td>\n",
              "      <td>61.0</td>\n",
              "    </tr>\n",
              "    <tr>\n",
              "      <th>8</th>\n",
              "      <td>54.0</td>\n",
              "      <td>54.0</td>\n",
              "      <td>15.0</td>\n",
              "      <td>5.0</td>\n",
              "      <td>21.0</td>\n",
              "      <td>30.0</td>\n",
              "      <td>51.0</td>\n",
              "      <td>54.0</td>\n",
              "    </tr>\n",
              "    <tr>\n",
              "      <th>9</th>\n",
              "      <td>48.0</td>\n",
              "      <td>53.0</td>\n",
              "      <td>24.0</td>\n",
              "      <td>3.0</td>\n",
              "      <td>13.0</td>\n",
              "      <td>39.0</td>\n",
              "      <td>69.0</td>\n",
              "      <td>69.0</td>\n",
              "    </tr>\n",
              "  </tbody>\n",
              "</table>\n",
              "</div>"
            ],
            "text/plain": [
              "   PM2.5  PM10   NO2  NH3   SO2    CO  OZONE   AQI\n",
              "0   68.0  64.0  17.0  4.0  28.0  31.0   40.0  68.0\n",
              "1   67.0  70.0  23.0  2.0  13.0  49.0   77.0  77.0\n",
              "2   32.0   NaN  26.0  5.0   6.0  19.0   16.0  32.0\n",
              "3   93.0  93.0  31.0  3.0   9.0  57.0   61.0  93.0\n",
              "4   60.0  55.0  20.0  5.0  18.0  29.0   53.0  60.0\n",
              "5   48.0  52.0  25.0  3.0  12.0  43.0   67.0  67.0\n",
              "6   36.0  41.0  31.0  5.0   5.0  33.0   14.0  41.0\n",
              "7   27.0  43.0  23.0  3.0  11.0  44.0   61.0  61.0\n",
              "8   54.0  54.0  15.0  5.0  21.0  30.0   51.0  54.0\n",
              "9   48.0  53.0  24.0  3.0  13.0  39.0   69.0  69.0"
            ]
          },
          "metadata": {
            "tags": []
          },
          "execution_count": 47
        }
      ]
    },
    {
      "cell_type": "code",
      "metadata": {
        "colab": {
          "base_uri": "https://localhost:8080/"
        },
        "id": "Q37WlsSiHHF0",
        "outputId": "b432a1e0-1432-43ea-bca2-7ea4a408cb3c"
      },
      "source": [
        "dataframe1.isnull().sum()"
      ],
      "execution_count": 48,
      "outputs": [
        {
          "output_type": "execute_result",
          "data": {
            "text/plain": [
              "PM2.5    181\n",
              "PM10     345\n",
              "NO2      158\n",
              "NH3      451\n",
              "SO2      216\n",
              "CO        65\n",
              "OZONE    151\n",
              "AQI        5\n",
              "dtype: int64"
            ]
          },
          "metadata": {
            "tags": []
          },
          "execution_count": 48
        }
      ]
    },
    {
      "cell_type": "code",
      "metadata": {
        "id": "oW_bDCHfHNU7"
      },
      "source": [
        "dataframe2 = dataframe1[dataframe1['AQI'].notna()]"
      ],
      "execution_count": 49,
      "outputs": []
    },
    {
      "cell_type": "code",
      "metadata": {
        "colab": {
          "base_uri": "https://localhost:8080/"
        },
        "id": "mHMFqAQoHrFz",
        "outputId": "458922b8-44a6-4460-912d-ff50fc363f5c"
      },
      "source": [
        "dataframe2.isnull().sum()"
      ],
      "execution_count": 50,
      "outputs": [
        {
          "output_type": "execute_result",
          "data": {
            "text/plain": [
              "PM2.5    176\n",
              "PM10     340\n",
              "NO2      158\n",
              "NH3      447\n",
              "SO2      216\n",
              "CO        65\n",
              "OZONE    151\n",
              "AQI        0\n",
              "dtype: int64"
            ]
          },
          "metadata": {
            "tags": []
          },
          "execution_count": 50
        }
      ]
    },
    {
      "cell_type": "code",
      "metadata": {
        "id": "HawmmFDfHwI0"
      },
      "source": [
        "\r\n",
        "dataframe3 = dataframe2.fillna(dataframe2.mean())"
      ],
      "execution_count": 51,
      "outputs": []
    },
    {
      "cell_type": "code",
      "metadata": {
        "colab": {
          "base_uri": "https://localhost:8080/"
        },
        "id": "ePh3XK3xH8es",
        "outputId": "f1bbe009-4734-496f-9f69-eddd21e8678e"
      },
      "source": [
        "dataframe3.isnull().sum()"
      ],
      "execution_count": 52,
      "outputs": [
        {
          "output_type": "execute_result",
          "data": {
            "text/plain": [
              "PM2.5    0\n",
              "PM10     0\n",
              "NO2      0\n",
              "NH3      0\n",
              "SO2      0\n",
              "CO       0\n",
              "OZONE    0\n",
              "AQI      0\n",
              "dtype: int64"
            ]
          },
          "metadata": {
            "tags": []
          },
          "execution_count": 52
        }
      ]
    },
    {
      "cell_type": "code",
      "metadata": {
        "id": "zsa_TG0GIHh8"
      },
      "source": [
        "dataframe4 = shuffle(dataframe3, random_state=0)\r\n",
        "dataframe4 = dataframe4.reset_index(drop=True)"
      ],
      "execution_count": 53,
      "outputs": []
    },
    {
      "cell_type": "code",
      "metadata": {
        "colab": {
          "base_uri": "https://localhost:8080/",
          "height": 204
        },
        "id": "VqcRyDWoIWmG",
        "outputId": "5e783224-242b-4a28-9c60-35d7b86ead85"
      },
      "source": [
        "y = dataframe4[\"AQI\"]\r\n",
        "x = dataframe4\r\n",
        "x.drop([\"AQI\"],axis=1,inplace=True)\r\n",
        "x.head()"
      ],
      "execution_count": 54,
      "outputs": [
        {
          "output_type": "execute_result",
          "data": {
            "text/html": [
              "<div>\n",
              "<style scoped>\n",
              "    .dataframe tbody tr th:only-of-type {\n",
              "        vertical-align: middle;\n",
              "    }\n",
              "\n",
              "    .dataframe tbody tr th {\n",
              "        vertical-align: top;\n",
              "    }\n",
              "\n",
              "    .dataframe thead th {\n",
              "        text-align: right;\n",
              "    }\n",
              "</style>\n",
              "<table border=\"1\" class=\"dataframe\">\n",
              "  <thead>\n",
              "    <tr style=\"text-align: right;\">\n",
              "      <th></th>\n",
              "      <th>PM2.5</th>\n",
              "      <th>PM10</th>\n",
              "      <th>NO2</th>\n",
              "      <th>NH3</th>\n",
              "      <th>SO2</th>\n",
              "      <th>CO</th>\n",
              "      <th>OZONE</th>\n",
              "    </tr>\n",
              "  </thead>\n",
              "  <tbody>\n",
              "    <tr>\n",
              "      <th>0</th>\n",
              "      <td>182.898707</td>\n",
              "      <td>141.674267</td>\n",
              "      <td>46.744681</td>\n",
              "      <td>8.409456</td>\n",
              "      <td>16.461538</td>\n",
              "      <td>46.0</td>\n",
              "      <td>4.0</td>\n",
              "    </tr>\n",
              "    <tr>\n",
              "      <th>1</th>\n",
              "      <td>47.000000</td>\n",
              "      <td>46.000000</td>\n",
              "      <td>17.000000</td>\n",
              "      <td>7.000000</td>\n",
              "      <td>16.000000</td>\n",
              "      <td>51.0</td>\n",
              "      <td>6.0</td>\n",
              "    </tr>\n",
              "    <tr>\n",
              "      <th>2</th>\n",
              "      <td>319.000000</td>\n",
              "      <td>141.674267</td>\n",
              "      <td>71.000000</td>\n",
              "      <td>8.409456</td>\n",
              "      <td>28.000000</td>\n",
              "      <td>86.0</td>\n",
              "      <td>8.0</td>\n",
              "    </tr>\n",
              "    <tr>\n",
              "      <th>3</th>\n",
              "      <td>71.000000</td>\n",
              "      <td>59.000000</td>\n",
              "      <td>22.000000</td>\n",
              "      <td>2.000000</td>\n",
              "      <td>19.000000</td>\n",
              "      <td>19.0</td>\n",
              "      <td>13.0</td>\n",
              "    </tr>\n",
              "    <tr>\n",
              "      <th>4</th>\n",
              "      <td>281.000000</td>\n",
              "      <td>195.000000</td>\n",
              "      <td>35.000000</td>\n",
              "      <td>2.000000</td>\n",
              "      <td>46.000000</td>\n",
              "      <td>92.0</td>\n",
              "      <td>5.0</td>\n",
              "    </tr>\n",
              "  </tbody>\n",
              "</table>\n",
              "</div>"
            ],
            "text/plain": [
              "        PM2.5        PM10        NO2       NH3        SO2    CO  OZONE\n",
              "0  182.898707  141.674267  46.744681  8.409456  16.461538  46.0    4.0\n",
              "1   47.000000   46.000000  17.000000  7.000000  16.000000  51.0    6.0\n",
              "2  319.000000  141.674267  71.000000  8.409456  28.000000  86.0    8.0\n",
              "3   71.000000   59.000000  22.000000  2.000000  19.000000  19.0   13.0\n",
              "4  281.000000  195.000000  35.000000  2.000000  46.000000  92.0    5.0"
            ]
          },
          "metadata": {
            "tags": []
          },
          "execution_count": 54
        }
      ]
    },
    {
      "cell_type": "code",
      "metadata": {
        "colab": {
          "base_uri": "https://localhost:8080/"
        },
        "id": "6wGuSxl3JIet",
        "outputId": "244f2cc9-e9c0-492f-8f5e-f8a51d7a675d"
      },
      "source": [
        "y.head()"
      ],
      "execution_count": 55,
      "outputs": [
        {
          "output_type": "execute_result",
          "data": {
            "text/plain": [
              "0    306.0\n",
              "1     51.0\n",
              "2    319.0\n",
              "3     71.0\n",
              "4    281.0\n",
              "Name: AQI, dtype: float64"
            ]
          },
          "metadata": {
            "tags": []
          },
          "execution_count": 55
        }
      ]
    },
    {
      "cell_type": "code",
      "metadata": {
        "id": "Y9JZmUDAJMd_"
      },
      "source": [
        "X_train,X_test,y_train,y_test = train_test_split(x, y, test_size=0.4, random_state=0)"
      ],
      "execution_count": 56,
      "outputs": []
    },
    {
      "cell_type": "code",
      "metadata": {
        "colab": {
          "base_uri": "https://localhost:8080/"
        },
        "id": "trroTg6TJgbE",
        "outputId": "3b2f52c4-a0c2-42dc-9771-502cb728015b"
      },
      "source": [
        "model = LinearRegression()\r\n",
        "model.fit(X_train, y_train)"
      ],
      "execution_count": 57,
      "outputs": [
        {
          "output_type": "execute_result",
          "data": {
            "text/plain": [
              "LinearRegression(copy_X=True, fit_intercept=True, n_jobs=None, normalize=False)"
            ]
          },
          "metadata": {
            "tags": []
          },
          "execution_count": 57
        }
      ]
    },
    {
      "cell_type": "code",
      "metadata": {
        "colab": {
          "base_uri": "https://localhost:8080/"
        },
        "id": "ZSs6SmTDJpyE",
        "outputId": "65fe3135-8865-4479-91d6-4477a2e54dd6"
      },
      "source": [
        "model.score(X_test, y_test) * 100"
      ],
      "execution_count": 58,
      "outputs": [
        {
          "output_type": "execute_result",
          "data": {
            "text/plain": [
              "90.55838109340164"
            ]
          },
          "metadata": {
            "tags": []
          },
          "execution_count": 58
        }
      ]
    }
  ]
}