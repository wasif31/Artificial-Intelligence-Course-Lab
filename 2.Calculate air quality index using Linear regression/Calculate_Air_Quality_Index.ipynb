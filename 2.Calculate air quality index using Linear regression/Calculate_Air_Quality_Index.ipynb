{
  "nbformat": 4,
  "nbformat_minor": 0,
  "metadata": {
    "colab": {
      "name": "Calculate_Air_Quality_Index.ipynb",
      "provenance": [],
      "authorship_tag": "ABX9TyNPGV/bt1sSXrTR6B77Ye2y",
      "include_colab_link": true
    },
    "kernelspec": {
      "name": "python3",
      "display_name": "Python 3"
    }
  },
  "cells": [
    {
      "cell_type": "markdown",
      "metadata": {
        "id": "view-in-github",
        "colab_type": "text"
      },
      "source": [
        "<a href=\"https://colab.research.google.com/github/wasif31/Artificial-Intelligence-Course-Lab/blob/main/2.Calculate%20air%20quality%20index%20using%20Linear%20regression/Calculate_Air_Quality_Index.ipynb\" target=\"_parent\"><img src=\"https://colab.research.google.com/assets/colab-badge.svg\" alt=\"Open In Colab\"/></a>"
      ]
    },
    {
      "cell_type": "code",
      "metadata": {
        "id": "v4erIO4X8xmh"
      },
      "source": [
        ""
      ],
      "execution_count": null,
      "outputs": []
    }
  ]
}