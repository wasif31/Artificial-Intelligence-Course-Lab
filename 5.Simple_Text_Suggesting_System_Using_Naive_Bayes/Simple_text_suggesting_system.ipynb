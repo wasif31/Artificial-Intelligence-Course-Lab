{
  "nbformat": 4,
  "nbformat_minor": 0,
  "metadata": {
    "colab": {
      "name": "Simple_text_suggesting_system.ipynb",
      "provenance": [],
      "toc_visible": true,
      "authorship_tag": "ABX9TyMLrpOk9A6zBntk8MOlTyqE",
      "include_colab_link": true
    },
    "kernelspec": {
      "name": "python3",
      "display_name": "Python 3"
    }
  },
  "cells": [
    {
      "cell_type": "markdown",
      "metadata": {
        "id": "view-in-github",
        "colab_type": "text"
      },
      "source": [
        "<a href=\"https://colab.research.google.com/github/wasif31/Artificial-Intelligence-Course-Lab/blob/main/5.Simple_Text_Suggesting_System_Using_Naive_Bayes/Simple_text_suggesting_system.ipynb\" target=\"_parent\"><img src=\"https://colab.research.google.com/assets/colab-badge.svg\" alt=\"Open In Colab\"/></a>"
      ]
    },
    {
      "cell_type": "code",
      "metadata": {
        "id": "dAD2SqzjzuB_"
      },
      "source": [
        "import nltk\r\n",
        "from nltk import trigrams \r\n",
        "from nltk.corpus import reuters\r\n",
        "from collections import  defaultdict\r\n",
        "from gensim.test.utils import datapath\r\n",
        "from gensim.corpora import WikiCorpus"
      ],
      "execution_count": 1,
      "outputs": []
    },
    {
      "cell_type": "code",
      "metadata": {
        "id": "HsxhesmE1Af0"
      },
      "source": [
        "wiki = WikiCorpus(datapath('bgwiki-latest-pages-articles-shortened.xml.bz2'), lemmatize=False).get_texts()"
      ],
      "execution_count": 43,
      "outputs": []
    },
    {
      "cell_type": "code",
      "metadata": {
        "colab": {
          "base_uri": "https://localhost:8080/"
        },
        "id": "eTttOFjX8W2A",
        "outputId": "b8541217-4254-4adb-ef81-9478b8d7a768"
      },
      "source": [
        "print(wiki)"
      ],
      "execution_count": 27,
      "outputs": [
        {
          "output_type": "stream",
          "text": [
            "<generator object WikiCorpus.get_texts at 0x7f2a22f5cf68>\n"
          ],
          "name": "stdout"
        }
      ]
    },
    {
      "cell_type": "code",
      "metadata": {
        "colab": {
          "base_uri": "https://localhost:8080/"
        },
        "id": "zVYt1U0a3Fvn",
        "outputId": "799eb72a-3b80-4548-95d6-c27fd0ba3344"
      },
      "source": [
        "# get Reuters DataSet\r\n",
        "nltk.download('punkt')\r\n",
        "nltk.download('reuters')\r\n",
        "rSentences  = reuters.sents()"
      ],
      "execution_count": 28,
      "outputs": [
        {
          "output_type": "stream",
          "text": [
            "[nltk_data] Downloading package punkt to /root/nltk_data...\n",
            "[nltk_data]   Package punkt is already up-to-date!\n",
            "[nltk_data] Downloading package reuters to /root/nltk_data...\n",
            "[nltk_data]   Package reuters is already up-to-date!\n"
          ],
          "name": "stdout"
        }
      ]
    },
    {
      "cell_type": "code",
      "metadata": {
        "colab": {
          "base_uri": "https://localhost:8080/"
        },
        "id": "f23Hoglp3WW2",
        "outputId": "c840efe3-e944-4882-8105-6e8e9773acbc"
      },
      "source": [
        "print(rSentences)"
      ],
      "execution_count": 29,
      "outputs": [
        {
          "output_type": "stream",
          "text": [
            "[['ASIAN', 'EXPORTERS', 'FEAR', 'DAMAGE', 'FROM', 'U', '.', 'S', '.-', 'JAPAN', 'RIFT', 'Mounting', 'trade', 'friction', 'between', 'the', 'U', '.', 'S', '.', 'And', 'Japan', 'has', 'raised', 'fears', 'among', 'many', 'of', 'Asia', \"'\", 's', 'exporting', 'nations', 'that', 'the', 'row', 'could', 'inflict', 'far', '-', 'reaching', 'economic', 'damage', ',', 'businessmen', 'and', 'officials', 'said', '.'], ['They', 'told', 'Reuter', 'correspondents', 'in', 'Asian', 'capitals', 'a', 'U', '.', 'S', '.', 'Move', 'against', 'Japan', 'might', 'boost', 'protectionist', 'sentiment', 'in', 'the', 'U', '.', 'S', '.', 'And', 'lead', 'to', 'curbs', 'on', 'American', 'imports', 'of', 'their', 'products', '.'], ...]\n"
          ],
          "name": "stdout"
        }
      ]
    },
    {
      "cell_type": "code",
      "metadata": {
        "id": "o8CFPicz241D"
      },
      "source": [
        "def measureProbability(sentenceModel):\r\n",
        "  for nextWord in sentenceModel:\r\n",
        "    nextWords = sentenceModel[nextWord]\r\n",
        "    total_Word_Count = float(sum(nextWords.values()))\r\n",
        "    for previousWord in nextWords:\r\n",
        "      nextWords[previousWord]/=total_Word_Count"
      ],
      "execution_count": 30,
      "outputs": []
    },
    {
      "cell_type": "code",
      "metadata": {
        "id": "ZtxuBDnc5zLq"
      },
      "source": [
        "def measureSigleWordProbability(sentenceModel,wordCount):\r\n",
        "  for word in sentenceModel:\r\n",
        "    sentenceModel[word]/=wordCount"
      ],
      "execution_count": 31,
      "outputs": []
    },
    {
      "cell_type": "code",
      "metadata": {
        "id": "luKUjliO6DIM"
      },
      "source": [
        "def convertToLower(item):\r\n",
        "  if type(item)==str:\r\n",
        "    return item.lower()\r\n",
        "  return item"
      ],
      "execution_count": 32,
      "outputs": []
    },
    {
      "cell_type": "code",
      "metadata": {
        "id": "4yVqYo2I6vAy"
      },
      "source": [
        "sentenceModelLambda1 = defaultdict(lambda: set())\r\n",
        "sentenceModelLambda2 = defaultdict(lambda: set())"
      ],
      "execution_count": 38,
      "outputs": []
    },
    {
      "cell_type": "code",
      "metadata": {
        "id": "VMP_tL0L6_OP"
      },
      "source": [
        "def measureWordCount(sentenceModel1,sentenceModel2,sentenceModel3,sentences):\r\n",
        "  wordCount = 0\r\n",
        "  for sentence in sentences:\r\n",
        "    for word in sentence:\r\n",
        "      wordCount+=1\r\n",
        "      sentenceModel1[word]+=1\r\n",
        "    for previousWord2,previousWord1,nextWord in trigrams(sentence,pad_right=True,pad_left=True):\r\n",
        "      previousWord1 = convertToLower(previousWord1)\r\n",
        "      previousWord2 = convertToLower(previousWord2)\r\n",
        "      nextWord = convertToLower(nextWord)\r\n",
        "      sentenceModel2[nextWord][previousWord1]+=1\r\n",
        "      sentenceModel3[nextWord][previousWord2]+=1\r\n",
        "      sentenceModelLambda1[previousWord1].add(nextWord)\r\n",
        "      sentenceModelLambda2[previousWord2].add(nextWord)\r\n",
        "\r\n",
        "  return wordCount"
      ],
      "execution_count": 39,
      "outputs": []
    },
    {
      "cell_type": "code",
      "metadata": {
        "id": "cLW0mM377Zgy"
      },
      "source": [
        "sentenceModel1 = defaultdict(lambda:0)\r\n",
        "sentenceModel2 = defaultdict(lambda: defaultdict(lambda:0))\r\n",
        "sentenceModel3 = defaultdict(lambda: defaultdict(lambda:0))"
      ],
      "execution_count": 40,
      "outputs": []
    },
    {
      "cell_type": "code",
      "metadata": {
        "colab": {
          "base_uri": "https://localhost:8080/"
        },
        "id": "_LWVZx7N7swR",
        "outputId": "c3e4835f-bb1b-4378-b213-56e128a3f74c"
      },
      "source": [
        "wikiCount = measureWordCount(sentenceModel1,sentenceModel2,sentenceModel3,wiki)\r\n",
        "print(wikiCount)"
      ],
      "execution_count": 44,
      "outputs": [
        {
          "output_type": "stream",
          "text": [
            "1321\n"
          ],
          "name": "stdout"
        }
      ]
    },
    {
      "cell_type": "code",
      "metadata": {
        "colab": {
          "base_uri": "https://localhost:8080/"
        },
        "id": "dt_pzixi-v-J",
        "outputId": "644a1d7a-a65f-4d2a-fc9b-007f515f1efc"
      },
      "source": [
        "reutersCount = measureWordCount(sentenceModel1,sentenceModel2,sentenceModel3,rSentences)\r\n",
        "print(reutersCount)"
      ],
      "execution_count": 46,
      "outputs": [
        {
          "output_type": "stream",
          "text": [
            "1720917\n"
          ],
          "name": "stdout"
        }
      ]
    },
    {
      "cell_type": "code",
      "metadata": {
        "id": "jr32TShk_Fjp"
      },
      "source": [
        "measureProbability(sentenceModel2)\r\n",
        "measureProbability(sentenceModel3)"
      ],
      "execution_count": 48,
      "outputs": []
    },
    {
      "cell_type": "code",
      "metadata": {
        "id": "2vz__tgh_TV6"
      },
      "source": [
        "total_word = wikiCount + reutersCount\r\n",
        "measureSigleWordProbability(sentenceModel1,total_word)"
      ],
      "execution_count": 50,
      "outputs": []
    },
    {
      "cell_type": "code",
      "metadata": {
        "colab": {
          "base_uri": "https://localhost:8080/"
        },
        "id": "8a7SbVE6_bsJ",
        "outputId": "f48b8dbb-237b-4579-bbfd-fbca42cfaf1f"
      },
      "source": [
        "#Naive Bais\r\n",
        "maxProbabilityWords = []\r\n",
        "def makeWordSuggestionByTrigram(previousWord2,previousWord1):\r\n",
        "  for nextWord in sentenceModelLambda1[previousWord1] & sentenceModelLambda2[previousWord2]:\r\n",
        "    naiveBiasTrigramWeight = sentenceModel1[nextWord]*sentenceModel2[nextWord][previousWord1]*sentenceModel3[nextWord][previousWord2]\r\n",
        "    maxProbabilityWords.append((nextWord,naiveBiasTrigramWeight))\r\n",
        "makeWordSuggestionByTrigram('my','name')\r\n",
        "maxProbabilityWords.sort(key=lambda o:o[1],reverse=True)\r\n",
        "print(*maxProbabilityWords[:10])   "
      ],
      "execution_count": 52,
      "outputs": [
        {
          "output_type": "stream",
          "text": [
            "('is', 3.431547440288585e-08) ('to', 1.3752228741704169e-09) (',', 7.061402167696784e-10) ('in', 5.9269638955901e-10) ('and', 5.794755236662483e-10) ('for', 4.7519342512442e-10) ('would', 4.4905347502451374e-10) ('will', 3.633936425372419e-10) ('that', 2.6531286744053744e-10) ('or', 2.1882008593022177e-10)\n"
          ],
          "name": "stdout"
        }
      ]
    },
    {
      "cell_type": "code",
      "metadata": {
        "colab": {
          "base_uri": "https://localhost:8080/"
        },
        "id": "Laeitc4h_y7J",
        "outputId": "da68a434-c3a6-4e74-d359-bb84f13ef757"
      },
      "source": [
        "while(True):\r\n",
        "    text = input(\"Enter your line: \")\r\n",
        "    if text == \"stop\":\r\n",
        "        print(\"Ending The Program.....\")\r\n",
        "        break\r\n",
        "    \r\n",
        "    else:\r\n",
        "        try:\r\n",
        "            maxProbabilityWords = []\r\n",
        "            text = text.split(\" \")\r\n",
        "            makeWordSuggestionByTrigram(text[0],text[1])\r\n",
        "            maxProbabilityWords.sort(key=lambda o:o[1],reverse=True)\r\n",
        "            print(*maxProbabilityWords[:10])\r\n",
        "            \r\n",
        "        except:\r\n",
        "            continue"
      ],
      "execution_count": null,
      "outputs": [
        {
          "output_type": "stream",
          "text": [
            "Enter your line: i eat\n",
            "('you', 1.8658651527582323e-08) (\"'\", 5.356741200704024e-09) ('the', 6.725528736637289e-10) ('about', 3.4155520602873625e-10) ('their', 2.338459382026355e-10) ('.', 6.131166297584641e-12)\n",
            "Enter your line: i will go\n",
            "('not', 1.263555582751872e-06) ('be', 7.274640593245656e-07) ('have', 1.5586237336878607e-07) ('propose', 9.956101541154977e-08) ('see', 7.802458371769073e-08) ('assume', 7.741864558402111e-08) ('tell', 6.751626068373934e-08) ('give', 6.60811505542275e-08) ('take', 6.066780585490053e-08) ('admit', 5.806398418801583e-08)\n",
            "Enter your line: how are \n",
            "('rare', 8.572994961237598e-08) ('used', 3.7867228822474515e-08) ('set', 3.6575907982268033e-08) ('the', 3.091705179842051e-08) ('subject', 2.9501174832726934e-08) ('interpreted', 1.75799260084823e-08) ('either', 1.5109379698856793e-08) ('you', 1.4926921222065857e-08) ('non', 1.4461913477464954e-08) ('better', 1.3816505071707667e-08)\n",
            "Enter your line: who are\n",
            "('not', 2.014393342831373e-06) ('terrified', 5.806398418801583e-07) ('also', 4.519452107597e-07) ('scorned', 2.9031992094007914e-07) ('expected', 2.471755963541163e-07) ('unhappy', 1.9255913123576677e-07) ('deprived', 1.8144995058754946e-07) ('already', 1.812063044136648e-07) ('dispersed', 1.658970976800452e-07) ('currently', 1.5949199427957933e-07)\n",
            "Enter your line: as soon\n",
            "('as', 2.4175135268480065e-06) (',', 4.0723427273933156e-08) ('after', 3.5704216821279965e-08) ('.', 3.439584292944984e-08) ('knew', 2.639272008546174e-08) ('to', 2.3857127251912886e-08) ('whether', 1.646593112348784e-08) ('for', 1.1404642202986081e-08) (',\"', 1.0255634534238887e-08) ('by', 9.62139545304034e-09)\n",
            "Enter your line: you are\n",
            "('not', 1.726622865284034e-07) ('re', 9.626948926355393e-08) ('going', 7.691665562956168e-08) ('still', 6.339957769475024e-08) ('trying', 5.928178836766159e-08) ('certainly', 5.840175553532836e-08) ('normally', 4.961660087456192e-08) ('considered', 3.76976886164797e-08) ('bound', 3.5549378074295395e-08) ('either', 3.021875939771359e-08)\n",
            "Enter your line: i will\n",
            "('not', 1.263555582751872e-06) ('be', 7.274640593245656e-07) ('have', 1.5586237336878607e-07) ('propose', 9.956101541154977e-08) ('see', 7.802458371769073e-08) ('assume', 7.741864558402111e-08) ('tell', 6.751626068373934e-08) ('give', 6.60811505542275e-08) ('take', 6.066780585490053e-08) ('admit', 5.806398418801583e-08)\n",
            "Enter your line: lets go\n",
            "(',', 8.024320645109983e-12)\n",
            "Enter your line: let go\n",
            "('up', 4.627493159461603e-09) ('off', 7.688322856780787e-10) ('-', 4.2367007798625185e-10) ('&', 6.675555781560799e-11) ('a', 6.493768876046333e-11) ('.', 1.2262332595169282e-11) ('the', 1.0190195055511046e-11) (',', 8.024320645109983e-12)\n"
          ],
          "name": "stdout"
        }
      ]
    }
  ]
}